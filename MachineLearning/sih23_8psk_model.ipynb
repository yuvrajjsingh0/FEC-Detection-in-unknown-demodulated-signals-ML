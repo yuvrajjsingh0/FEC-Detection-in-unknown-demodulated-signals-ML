{
  "nbformat": 4,
  "nbformat_minor": 0,
  "metadata": {
    "colab": {
      "provenance": []
    },
    "kernelspec": {
      "name": "python3",
      "display_name": "Python 3"
    },
    "language_info": {
      "name": "python"
    }
  },
  "cells": [
    {
      "cell_type": "code",
      "execution_count": 43,
      "metadata": {
        "id": "ceVcReT7QrK8"
      },
      "outputs": [],
      "source": [
        "import tensorflow as tf\n",
        "import keras\n",
        "import numpy as np\n",
        "import pandas as pd\n",
        "import os"
      ]
    },
    {
      "cell_type": "code",
      "source": [
        "!unzip -q /content/turbo-codes-8psk/psk8turbo_snr.zip"
      ],
      "metadata": {
        "id": "TFknyPLvNt6Z"
      },
      "execution_count": 39,
      "outputs": []
    },
    {
      "cell_type": "code",
      "source": [
        "class_names = [\"CONV\", \"TPC\", \"BCH\", \"TURBO\"]\n",
        "x = []\n",
        "y = []\n",
        "for i in os.listdir():\n",
        "  if \"csv\" in i and \"conv\" in i:\n",
        "    print(\"Compiling file :\", i)\n",
        "    conv_0 = pd.read_csv(i, header=None)\n",
        "    for j in range(100):\n",
        "      x.append(conv_0.iloc[:200, j].values)\n",
        "      y.append(0)"
      ],
      "metadata": {
        "colab": {
          "base_uri": "https://localhost:8080/"
        },
        "id": "x8xJO7XcQ5Co",
        "outputId": "c720fd18-8c97-43f9-9fc7-e1c497638a16"
      },
      "execution_count": 50,
      "outputs": [
        {
          "output_type": "stream",
          "name": "stdout",
          "text": [
            "Compiling file : conv_5snr.csv\n",
            "Compiling file : conv_4snr.csv\n",
            "Compiling file : conv_6snr.csv\n",
            "Compiling file : conv_0snr.csv\n",
            "Compiling file : conv_3snr.csv\n",
            "Compiling file : conv_1snr.csv\n",
            "Compiling file : conv_10snr.csv\n",
            "Compiling file : conv_2snr.csv\n",
            "Compiling file : conv_8snr.csv\n",
            "Compiling file : conv_7snr.csv\n"
          ]
        }
      ]
    },
    {
      "cell_type": "code",
      "source": [
        "for i in os.listdir(\"/content/turbo\"):\n",
        "  if \"csv\" in i:\n",
        "    print(\"Compiling file :\", i)\n",
        "    turbo_0 = pd.read_csv(\"/content/turbo/\"+i, header=None)\n",
        "    for j in range(100):\n",
        "      x.append(turbo_0.iloc[:200, j].values)\n",
        "      y.append(1)"
      ],
      "metadata": {
        "colab": {
          "base_uri": "https://localhost:8080/"
        },
        "id": "7XrQ4v02TR4C",
        "outputId": "6ff05b3f-091d-4da8-c2e1-7c5d82d9b53b"
      },
      "execution_count": 51,
      "outputs": [
        {
          "output_type": "stream",
          "name": "stdout",
          "text": [
            "Compiling file : tpc_5snr.csv\n",
            "Compiling file : tpc_3snr.csv\n",
            "Compiling file : tpc_8snr.csv\n",
            "Compiling file : tpc_10snr.csv\n",
            "Compiling file : tpc_9snr.csv\n",
            "Compiling file : tpc_6snr.csv\n",
            "Compiling file : tpc_0snr.csv\n",
            "Compiling file : tpc_2snr.csv\n",
            "Compiling file : tpc_1snr.csv\n",
            "Compiling file : tpc_7snr.csv\n",
            "Compiling file : tpc_4snr.csv\n"
          ]
        }
      ]
    },
    {
      "cell_type": "code",
      "source": [
        "for i in os.listdir(\"/content/bch\"):\n",
        "  if \"csv\" in i:\n",
        "    print(\"Compiling file :\", i)\n",
        "    turbo_0 = pd.read_csv(\"/content/bch/\"+i, header=None)\n",
        "    for j in range(100):\n",
        "      x.append(turbo_0.iloc[:200, j].values)\n",
        "      y.append(2)"
      ],
      "metadata": {
        "colab": {
          "base_uri": "https://localhost:8080/"
        },
        "id": "9YUxmqPGbPHs",
        "outputId": "5e9dc644-0c86-4188-ce83-cb98841f7d4c"
      },
      "execution_count": 52,
      "outputs": [
        {
          "output_type": "stream",
          "name": "stdout",
          "text": [
            "Compiling file : bch8psk_6snr.csv\n",
            "Compiling file : bch8psk_5snr.csv\n",
            "Compiling file : bch8psk_2snr.csv\n",
            "Compiling file : bch8psk_1snr.csv\n",
            "Compiling file : bch8psk_3snr.csv\n",
            "Compiling file : bch8psk_0snr.csv\n",
            "Compiling file : bch8psk_10snr.csv\n",
            "Compiling file : bch8psk_7snr.csv\n",
            "Compiling file : bch8psk_9snr.csv\n",
            "Compiling file : bch8psk_8snr.csv\n",
            "Compiling file : bch8psk_4snr.csv\n"
          ]
        }
      ]
    },
    {
      "cell_type": "code",
      "source": [
        "for i in os.listdir():\n",
        "  if \"psk8turbo\" in i:\n",
        "    print(\"Compiling file :\", i)\n",
        "    conv_0 = pd.read_csv(i, header=None)\n",
        "    print(conv_0.head())\n",
        "    for j in range(100):\n",
        "      x.append(conv_0.iloc[:200, j].values)\n",
        "      y.append(3)\n",
        "x = np.array(x)\n",
        "x.shape"
      ],
      "metadata": {
        "id": "BnCS0iVCOaYQ"
      },
      "execution_count": null,
      "outputs": []
    },
    {
      "cell_type": "code",
      "source": [
        "x_data = []\n",
        "for i in x:\n",
        "  x_data.append([[x] for x in i])\n",
        "\n",
        "x_data = np.array(x_data)"
      ],
      "metadata": {
        "id": "c1qGBE9fcpPn"
      },
      "execution_count": 22,
      "outputs": []
    },
    {
      "cell_type": "code",
      "source": [
        "x_data.shape"
      ],
      "metadata": {
        "colab": {
          "base_uri": "https://localhost:8080/"
        },
        "id": "XB4pXi6QcvJr",
        "outputId": "ee069443-7015-4d7b-e2ac-80db5076aa27"
      },
      "execution_count": 23,
      "outputs": [
        {
          "output_type": "execute_result",
          "data": {
            "text/plain": [
              "(3200, 200, 1)"
            ]
          },
          "metadata": {},
          "execution_count": 23
        }
      ]
    },
    {
      "cell_type": "code",
      "source": [
        "y_data = np.array(y)"
      ],
      "metadata": {
        "id": "j3DrTuBtdLXK"
      },
      "execution_count": 25,
      "outputs": []
    },
    {
      "cell_type": "code",
      "source": [
        "inp_layer = keras.layers.Input(shape=(200,1))\n",
        "\n",
        "#conv1-64, 3x1\n",
        "x = keras.layers.Conv1D(filters=64, kernel_size=3)(inp_layer)\n",
        "x_act = keras.layers.Activation(tf.nn.relu)(x)\n",
        "\n",
        "#conv1-64, 3x1\n",
        "x = keras.layers.Conv1D(filters=64, kernel_size=3)(x_act)\n",
        "x_act = keras.layers.Activation(tf.nn.relu)(x)\n",
        "\n",
        "#conv1-128, 3x1\n",
        "x = keras.layers.Conv1D(filters=128, kernel_size=3)(x_act)\n",
        "x_act = keras.layers.Activation(tf.nn.relu)(x)\n",
        "\n",
        "#global average pooling\n",
        "gap = keras.layers.GlobalAveragePooling1D()(x_act)\n",
        "\n",
        "#dense\n",
        "d1 = keras.layers.Dense(64, activation=\"relu\")(gap)\n",
        "d2 = keras.layers.Dense(64, activation=\"relu\")(d1)\n",
        "out_layer = keras.layers.Dense(3, activation=\"sigmoid\")(d2)\n",
        "\n",
        "model_test1 = keras.Model(inp_layer, out_layer)\n",
        "\n",
        "model_test1.summary()"
      ],
      "metadata": {
        "colab": {
          "base_uri": "https://localhost:8080/"
        },
        "id": "-ovgZ-61dN2b",
        "outputId": "1184a7ce-33c2-4220-b4ad-299796985e50"
      },
      "execution_count": 26,
      "outputs": [
        {
          "output_type": "stream",
          "name": "stdout",
          "text": [
            "Model: \"model\"\n",
            "_________________________________________________________________\n",
            " Layer (type)                Output Shape              Param #   \n",
            "=================================================================\n",
            " input_1 (InputLayer)        [(None, 200, 1)]          0         \n",
            "                                                                 \n",
            " conv1d (Conv1D)             (None, 198, 64)           256       \n",
            "                                                                 \n",
            " activation (Activation)     (None, 198, 64)           0         \n",
            "                                                                 \n",
            " conv1d_1 (Conv1D)           (None, 196, 64)           12352     \n",
            "                                                                 \n",
            " activation_1 (Activation)   (None, 196, 64)           0         \n",
            "                                                                 \n",
            " conv1d_2 (Conv1D)           (None, 194, 128)          24704     \n",
            "                                                                 \n",
            " activation_2 (Activation)   (None, 194, 128)          0         \n",
            "                                                                 \n",
            " global_average_pooling1d (  (None, 128)               0         \n",
            " GlobalAveragePooling1D)                                         \n",
            "                                                                 \n",
            " dense (Dense)               (None, 64)                8256      \n",
            "                                                                 \n",
            " dense_1 (Dense)             (None, 64)                4160      \n",
            "                                                                 \n",
            " dense_2 (Dense)             (None, 3)                 195       \n",
            "                                                                 \n",
            "=================================================================\n",
            "Total params: 49923 (195.01 KB)\n",
            "Trainable params: 49923 (195.01 KB)\n",
            "Non-trainable params: 0 (0.00 Byte)\n",
            "_________________________________________________________________\n"
          ]
        }
      ]
    },
    {
      "cell_type": "code",
      "source": [
        "model_test1.compile(\n",
        "    optimizer=\"adam\",\n",
        "    loss = \"sparse_categorical_crossentropy\",\n",
        "    metrics=[\"accuracy\"]\n",
        ")"
      ],
      "metadata": {
        "id": "FJaK9DEedY30"
      },
      "execution_count": 27,
      "outputs": []
    },
    {
      "cell_type": "code",
      "source": [
        "from sklearn.model_selection import train_test_split\n",
        "x_train, x_test, y_train, y_test = train_test_split(x_data, y_data, test_size=0.25, shuffle=True, stratify=y_data)\n",
        "x_t, x_v, y_t, y_v = train_test_split(x_test, y_test, test_size=0.5, shuffle=True, stratify=y_test)\n",
        "\n",
        "x_train.shape, x_t.shape, x_v.shape, y_train.shape, y_t.shape, y_v.shape"
      ],
      "metadata": {
        "colab": {
          "base_uri": "https://localhost:8080/"
        },
        "id": "kUBDVGNtdjhl",
        "outputId": "d43e47d9-da0d-4e57-c9d9-1ca1cdb477f0"
      },
      "execution_count": 28,
      "outputs": [
        {
          "output_type": "execute_result",
          "data": {
            "text/plain": [
              "((2400, 200, 1), (400, 200, 1), (400, 200, 1), (2400,), (400,), (400,))"
            ]
          },
          "metadata": {},
          "execution_count": 28
        }
      ]
    },
    {
      "cell_type": "code",
      "source": [
        "callbacks = [\n",
        "    tf.keras.callbacks.ModelCheckpoint(\"model_8psk.h5\"),\n",
        "    tf.keras.callbacks.TensorBoard(\"logs_8psk_training\")\n",
        "]"
      ],
      "metadata": {
        "id": "DMM_9AY2esBN"
      },
      "execution_count": 31,
      "outputs": []
    },
    {
      "cell_type": "code",
      "source": [
        "model_test1.fit(x_train, y_train, epochs=100, validation_data=(x_v, y_v), callbacks=callbacks)"
      ],
      "metadata": {
        "colab": {
          "base_uri": "https://localhost:8080/"
        },
        "id": "SKZkJ-euePSr",
        "outputId": "e072d0d7-b39f-4259-e70f-1ef61ab793fe"
      },
      "execution_count": 32,
      "outputs": [
        {
          "output_type": "stream",
          "name": "stdout",
          "text": [
            "Epoch 1/100\n",
            "75/75 [==============================] - 4s 50ms/step - loss: 0.4574 - accuracy: 0.6954 - val_loss: 0.4536 - val_accuracy: 0.6950\n",
            "Epoch 2/100\n",
            " 3/75 [>.............................] - ETA: 2s - loss: 0.4682 - accuracy: 0.6771"
          ]
        },
        {
          "output_type": "stream",
          "name": "stderr",
          "text": [
            "/usr/local/lib/python3.10/dist-packages/keras/src/engine/training.py:3103: UserWarning: You are saving your model as an HDF5 file via `model.save()`. This file format is considered legacy. We recommend using instead the native Keras format, e.g. `model.save('my_model.keras')`.\n",
            "  saving_api.save_model(\n"
          ]
        },
        {
          "output_type": "stream",
          "name": "stdout",
          "text": [
            "75/75 [==============================] - 4s 50ms/step - loss: 0.4514 - accuracy: 0.6988 - val_loss: 0.4457 - val_accuracy: 0.6900\n",
            "Epoch 3/100\n",
            "75/75 [==============================] - 3s 43ms/step - loss: 0.4553 - accuracy: 0.6817 - val_loss: 0.4469 - val_accuracy: 0.7250\n",
            "Epoch 4/100\n",
            "75/75 [==============================] - 3s 37ms/step - loss: 0.4514 - accuracy: 0.6779 - val_loss: 0.4456 - val_accuracy: 0.7175\n",
            "Epoch 5/100\n",
            "75/75 [==============================] - 3s 38ms/step - loss: 0.4510 - accuracy: 0.7063 - val_loss: 0.4542 - val_accuracy: 0.7125\n",
            "Epoch 6/100\n",
            "75/75 [==============================] - 3s 42ms/step - loss: 0.4522 - accuracy: 0.6896 - val_loss: 0.4488 - val_accuracy: 0.7175\n",
            "Epoch 7/100\n",
            "75/75 [==============================] - 4s 50ms/step - loss: 0.4511 - accuracy: 0.6983 - val_loss: 0.4442 - val_accuracy: 0.7175\n",
            "Epoch 8/100\n",
            "75/75 [==============================] - 3s 36ms/step - loss: 0.4484 - accuracy: 0.7021 - val_loss: 0.4558 - val_accuracy: 0.6875\n",
            "Epoch 9/100\n",
            "75/75 [==============================] - 3s 36ms/step - loss: 0.4496 - accuracy: 0.6971 - val_loss: 0.4475 - val_accuracy: 0.6900\n",
            "Epoch 10/100\n",
            "75/75 [==============================] - 3s 36ms/step - loss: 0.4519 - accuracy: 0.6750 - val_loss: 0.4464 - val_accuracy: 0.7300\n",
            "Epoch 11/100\n",
            "75/75 [==============================] - 4s 55ms/step - loss: 0.4500 - accuracy: 0.6983 - val_loss: 0.4411 - val_accuracy: 0.7200\n",
            "Epoch 12/100\n",
            "75/75 [==============================] - 3s 37ms/step - loss: 0.4488 - accuracy: 0.7021 - val_loss: 0.4489 - val_accuracy: 0.6875\n",
            "Epoch 13/100\n",
            "75/75 [==============================] - 3s 36ms/step - loss: 0.4462 - accuracy: 0.7050 - val_loss: 0.4431 - val_accuracy: 0.6900\n",
            "Epoch 14/100\n",
            "75/75 [==============================] - 3s 36ms/step - loss: 0.4500 - accuracy: 0.7013 - val_loss: 0.4432 - val_accuracy: 0.7325\n",
            "Epoch 15/100\n",
            "75/75 [==============================] - 3s 44ms/step - loss: 0.4465 - accuracy: 0.6992 - val_loss: 0.4456 - val_accuracy: 0.7100\n",
            "Epoch 16/100\n",
            "75/75 [==============================] - 4s 48ms/step - loss: 0.4459 - accuracy: 0.7079 - val_loss: 0.4401 - val_accuracy: 0.7525\n",
            "Epoch 17/100\n",
            "75/75 [==============================] - 3s 36ms/step - loss: 0.4462 - accuracy: 0.7071 - val_loss: 0.4390 - val_accuracy: 0.7175\n",
            "Epoch 18/100\n",
            "75/75 [==============================] - 3s 36ms/step - loss: 0.4454 - accuracy: 0.7004 - val_loss: 0.4348 - val_accuracy: 0.7475\n",
            "Epoch 19/100\n",
            "75/75 [==============================] - 3s 36ms/step - loss: 0.4447 - accuracy: 0.7146 - val_loss: 0.4452 - val_accuracy: 0.7075\n",
            "Epoch 20/100\n",
            "75/75 [==============================] - 4s 56ms/step - loss: 0.4469 - accuracy: 0.7058 - val_loss: 0.4456 - val_accuracy: 0.6875\n",
            "Epoch 21/100\n",
            "75/75 [==============================] - 3s 37ms/step - loss: 0.4457 - accuracy: 0.7017 - val_loss: 0.4424 - val_accuracy: 0.7350\n",
            "Epoch 22/100\n",
            "75/75 [==============================] - 3s 37ms/step - loss: 0.4457 - accuracy: 0.6967 - val_loss: 0.4360 - val_accuracy: 0.7750\n",
            "Epoch 23/100\n",
            "75/75 [==============================] - 3s 37ms/step - loss: 0.4434 - accuracy: 0.7163 - val_loss: 0.4533 - val_accuracy: 0.6850\n",
            "Epoch 24/100\n",
            "75/75 [==============================] - 4s 50ms/step - loss: 0.4449 - accuracy: 0.7108 - val_loss: 0.4383 - val_accuracy: 0.7175\n",
            "Epoch 25/100\n",
            "75/75 [==============================] - 3s 42ms/step - loss: 0.4438 - accuracy: 0.7150 - val_loss: 0.4424 - val_accuracy: 0.7150\n",
            "Epoch 26/100\n",
            "75/75 [==============================] - 3s 36ms/step - loss: 0.4461 - accuracy: 0.7117 - val_loss: 0.4472 - val_accuracy: 0.6850\n",
            "Epoch 27/100\n",
            "75/75 [==============================] - 3s 36ms/step - loss: 0.4430 - accuracy: 0.7217 - val_loss: 0.4295 - val_accuracy: 0.7975\n",
            "Epoch 28/100\n",
            "75/75 [==============================] - 3s 39ms/step - loss: 0.4434 - accuracy: 0.7208 - val_loss: 0.4326 - val_accuracy: 0.7200\n",
            "Epoch 29/100\n",
            "75/75 [==============================] - 4s 53ms/step - loss: 0.4392 - accuracy: 0.7317 - val_loss: 0.4349 - val_accuracy: 0.7400\n",
            "Epoch 30/100\n",
            "75/75 [==============================] - 3s 37ms/step - loss: 0.4419 - accuracy: 0.7175 - val_loss: 0.4291 - val_accuracy: 0.7250\n",
            "Epoch 31/100\n",
            "75/75 [==============================] - 3s 36ms/step - loss: 0.4412 - accuracy: 0.7254 - val_loss: 0.4438 - val_accuracy: 0.7050\n",
            "Epoch 32/100\n",
            "75/75 [==============================] - 3s 36ms/step - loss: 0.4383 - accuracy: 0.7175 - val_loss: 0.4264 - val_accuracy: 0.7625\n",
            "Epoch 33/100\n",
            "75/75 [==============================] - 4s 56ms/step - loss: 0.4430 - accuracy: 0.7271 - val_loss: 0.4229 - val_accuracy: 0.7750\n",
            "Epoch 34/100\n",
            "75/75 [==============================] - 3s 37ms/step - loss: 0.4392 - accuracy: 0.7292 - val_loss: 0.4553 - val_accuracy: 0.7025\n",
            "Epoch 35/100\n",
            "75/75 [==============================] - 3s 36ms/step - loss: 0.4356 - accuracy: 0.7417 - val_loss: 0.4478 - val_accuracy: 0.7125\n",
            "Epoch 36/100\n",
            "75/75 [==============================] - 3s 36ms/step - loss: 0.4368 - accuracy: 0.7354 - val_loss: 0.4256 - val_accuracy: 0.7575\n",
            "Epoch 37/100\n",
            "75/75 [==============================] - 3s 45ms/step - loss: 0.4373 - accuracy: 0.7408 - val_loss: 0.4266 - val_accuracy: 0.7650\n",
            "Epoch 38/100\n",
            "75/75 [==============================] - 3s 46ms/step - loss: 0.4384 - accuracy: 0.7325 - val_loss: 0.4257 - val_accuracy: 0.7525\n",
            "Epoch 39/100\n",
            "75/75 [==============================] - 3s 37ms/step - loss: 0.4374 - accuracy: 0.7383 - val_loss: 0.4296 - val_accuracy: 0.7600\n",
            "Epoch 40/100\n",
            "75/75 [==============================] - 3s 36ms/step - loss: 0.4286 - accuracy: 0.7508 - val_loss: 0.4116 - val_accuracy: 0.7925\n",
            "Epoch 41/100\n",
            "75/75 [==============================] - 3s 37ms/step - loss: 0.4314 - accuracy: 0.7433 - val_loss: 0.4205 - val_accuracy: 0.7525\n",
            "Epoch 42/100\n",
            "75/75 [==============================] - 4s 56ms/step - loss: 0.4336 - accuracy: 0.7387 - val_loss: 0.4258 - val_accuracy: 0.7750\n",
            "Epoch 43/100\n",
            "75/75 [==============================] - 3s 37ms/step - loss: 0.4307 - accuracy: 0.7367 - val_loss: 0.4394 - val_accuracy: 0.7350\n",
            "Epoch 44/100\n",
            "75/75 [==============================] - 3s 36ms/step - loss: 0.4280 - accuracy: 0.7508 - val_loss: 0.4195 - val_accuracy: 0.7650\n",
            "Epoch 45/100\n",
            "75/75 [==============================] - 3s 37ms/step - loss: 0.4274 - accuracy: 0.7479 - val_loss: 0.4049 - val_accuracy: 0.7950\n",
            "Epoch 46/100\n",
            "75/75 [==============================] - 4s 48ms/step - loss: 0.4267 - accuracy: 0.7533 - val_loss: 0.4138 - val_accuracy: 0.7825\n",
            "Epoch 47/100\n",
            "75/75 [==============================] - 3s 43ms/step - loss: 0.4221 - accuracy: 0.7500 - val_loss: 0.4145 - val_accuracy: 0.7750\n",
            "Epoch 48/100\n",
            "75/75 [==============================] - 3s 36ms/step - loss: 0.4254 - accuracy: 0.7483 - val_loss: 0.4193 - val_accuracy: 0.7600\n",
            "Epoch 49/100\n",
            "75/75 [==============================] - 3s 36ms/step - loss: 0.4311 - accuracy: 0.7533 - val_loss: 0.4106 - val_accuracy: 0.7900\n",
            "Epoch 50/100\n",
            "75/75 [==============================] - 3s 37ms/step - loss: 0.4245 - accuracy: 0.7563 - val_loss: 0.4264 - val_accuracy: 0.7325\n",
            "Epoch 51/100\n",
            "75/75 [==============================] - 4s 56ms/step - loss: 0.4219 - accuracy: 0.7588 - val_loss: 0.4083 - val_accuracy: 0.7850\n",
            "Epoch 52/100\n",
            "75/75 [==============================] - 3s 37ms/step - loss: 0.4146 - accuracy: 0.7663 - val_loss: 0.4037 - val_accuracy: 0.7850\n",
            "Epoch 53/100\n",
            "75/75 [==============================] - 3s 36ms/step - loss: 0.4167 - accuracy: 0.7546 - val_loss: 0.3943 - val_accuracy: 0.7900\n",
            "Epoch 54/100\n",
            "75/75 [==============================] - 3s 37ms/step - loss: 0.4155 - accuracy: 0.7671 - val_loss: 0.4236 - val_accuracy: 0.7650\n",
            "Epoch 55/100\n",
            "75/75 [==============================] - 4s 53ms/step - loss: 0.4158 - accuracy: 0.7667 - val_loss: 0.4555 - val_accuracy: 0.7100\n",
            "Epoch 56/100\n",
            "75/75 [==============================] - 3s 39ms/step - loss: 0.4189 - accuracy: 0.7629 - val_loss: 0.4123 - val_accuracy: 0.7775\n",
            "Epoch 57/100\n",
            "75/75 [==============================] - 3s 36ms/step - loss: 0.4167 - accuracy: 0.7617 - val_loss: 0.4092 - val_accuracy: 0.7850\n",
            "Epoch 58/100\n",
            "75/75 [==============================] - 3s 36ms/step - loss: 0.4093 - accuracy: 0.7738 - val_loss: 0.3895 - val_accuracy: 0.8025\n",
            "Epoch 59/100\n",
            "75/75 [==============================] - 3s 42ms/step - loss: 0.4061 - accuracy: 0.7779 - val_loss: 0.3983 - val_accuracy: 0.7875\n",
            "Epoch 60/100\n",
            "75/75 [==============================] - 4s 50ms/step - loss: 0.4006 - accuracy: 0.7833 - val_loss: 0.4218 - val_accuracy: 0.7425\n",
            "Epoch 61/100\n",
            "75/75 [==============================] - 3s 37ms/step - loss: 0.4042 - accuracy: 0.7779 - val_loss: 0.3966 - val_accuracy: 0.7925\n",
            "Epoch 62/100\n",
            "75/75 [==============================] - 3s 36ms/step - loss: 0.4036 - accuracy: 0.7821 - val_loss: 0.3952 - val_accuracy: 0.7900\n",
            "Epoch 63/100\n",
            "75/75 [==============================] - 3s 37ms/step - loss: 0.4012 - accuracy: 0.7808 - val_loss: 0.3968 - val_accuracy: 0.8075\n",
            "Epoch 64/100\n",
            "75/75 [==============================] - 4s 58ms/step - loss: 0.4039 - accuracy: 0.7779 - val_loss: 0.3924 - val_accuracy: 0.7900\n",
            "Epoch 65/100\n",
            "75/75 [==============================] - 3s 36ms/step - loss: 0.3962 - accuracy: 0.7862 - val_loss: 0.3884 - val_accuracy: 0.8000\n",
            "Epoch 66/100\n",
            "75/75 [==============================] - 3s 36ms/step - loss: 0.3889 - accuracy: 0.7946 - val_loss: 0.4018 - val_accuracy: 0.7725\n",
            "Epoch 67/100\n",
            "75/75 [==============================] - 3s 36ms/step - loss: 0.3862 - accuracy: 0.7971 - val_loss: 0.3913 - val_accuracy: 0.7850\n",
            "Epoch 68/100\n",
            "75/75 [==============================] - 3s 47ms/step - loss: 0.3972 - accuracy: 0.7788 - val_loss: 0.3913 - val_accuracy: 0.8100\n",
            "Epoch 69/100\n",
            "75/75 [==============================] - 3s 46ms/step - loss: 0.3901 - accuracy: 0.7975 - val_loss: 0.3869 - val_accuracy: 0.8125\n",
            "Epoch 70/100\n",
            "75/75 [==============================] - 3s 36ms/step - loss: 0.3929 - accuracy: 0.7962 - val_loss: 0.3950 - val_accuracy: 0.8025\n",
            "Epoch 71/100\n",
            "75/75 [==============================] - 3s 37ms/step - loss: 0.3929 - accuracy: 0.7896 - val_loss: 0.3899 - val_accuracy: 0.8000\n",
            "Epoch 72/100\n",
            "75/75 [==============================] - 3s 36ms/step - loss: 0.3801 - accuracy: 0.7979 - val_loss: 0.3793 - val_accuracy: 0.7900\n",
            "Epoch 73/100\n",
            "75/75 [==============================] - 4s 56ms/step - loss: 0.3888 - accuracy: 0.7992 - val_loss: 0.3806 - val_accuracy: 0.7850\n",
            "Epoch 74/100\n",
            "75/75 [==============================] - 3s 36ms/step - loss: 0.3800 - accuracy: 0.8067 - val_loss: 0.3956 - val_accuracy: 0.7925\n",
            "Epoch 75/100\n",
            "75/75 [==============================] - 3s 37ms/step - loss: 0.3774 - accuracy: 0.8087 - val_loss: 0.4026 - val_accuracy: 0.7700\n",
            "Epoch 76/100\n",
            "75/75 [==============================] - 3s 36ms/step - loss: 0.3681 - accuracy: 0.8129 - val_loss: 0.4030 - val_accuracy: 0.7925\n",
            "Epoch 77/100\n",
            "75/75 [==============================] - 4s 51ms/step - loss: 0.3669 - accuracy: 0.8188 - val_loss: 0.4149 - val_accuracy: 0.7675\n",
            "Epoch 78/100\n",
            "75/75 [==============================] - 3s 41ms/step - loss: 0.3730 - accuracy: 0.8108 - val_loss: 0.3833 - val_accuracy: 0.8025\n",
            "Epoch 79/100\n",
            "75/75 [==============================] - 3s 36ms/step - loss: 0.3559 - accuracy: 0.8258 - val_loss: 0.3859 - val_accuracy: 0.7950\n",
            "Epoch 80/100\n",
            "75/75 [==============================] - 3s 37ms/step - loss: 0.3533 - accuracy: 0.8238 - val_loss: 0.3859 - val_accuracy: 0.8050\n",
            "Epoch 81/100\n",
            "75/75 [==============================] - 3s 40ms/step - loss: 0.3473 - accuracy: 0.8321 - val_loss: 0.3666 - val_accuracy: 0.8275\n",
            "Epoch 82/100\n",
            "75/75 [==============================] - 4s 52ms/step - loss: 0.3362 - accuracy: 0.8375 - val_loss: 0.4765 - val_accuracy: 0.7750\n",
            "Epoch 83/100\n",
            "75/75 [==============================] - 3s 36ms/step - loss: 0.3401 - accuracy: 0.8333 - val_loss: 0.3657 - val_accuracy: 0.8075\n",
            "Epoch 84/100\n",
            "75/75 [==============================] - 3s 36ms/step - loss: 0.3338 - accuracy: 0.8367 - val_loss: 0.3677 - val_accuracy: 0.8200\n",
            "Epoch 85/100\n",
            "75/75 [==============================] - 3s 36ms/step - loss: 0.3252 - accuracy: 0.8521 - val_loss: 0.3536 - val_accuracy: 0.8400\n",
            "Epoch 86/100\n",
            "75/75 [==============================] - 4s 54ms/step - loss: 0.3182 - accuracy: 0.8558 - val_loss: 0.4222 - val_accuracy: 0.8125\n",
            "Epoch 87/100\n",
            "75/75 [==============================] - 3s 38ms/step - loss: 0.3478 - accuracy: 0.8238 - val_loss: 0.3593 - val_accuracy: 0.7950\n",
            "Epoch 88/100\n",
            "75/75 [==============================] - 3s 37ms/step - loss: 0.3178 - accuracy: 0.8475 - val_loss: 0.3584 - val_accuracy: 0.8000\n",
            "Epoch 89/100\n",
            "75/75 [==============================] - 3s 36ms/step - loss: 0.3124 - accuracy: 0.8512 - val_loss: 0.3588 - val_accuracy: 0.8350\n",
            "Epoch 90/100\n",
            "75/75 [==============================] - 3s 44ms/step - loss: 0.3007 - accuracy: 0.8587 - val_loss: 0.3716 - val_accuracy: 0.8250\n",
            "Epoch 91/100\n",
            "75/75 [==============================] - 4s 47ms/step - loss: 0.3004 - accuracy: 0.8662 - val_loss: 0.4230 - val_accuracy: 0.7850\n",
            "Epoch 92/100\n",
            "75/75 [==============================] - 3s 36ms/step - loss: 0.2888 - accuracy: 0.8687 - val_loss: 0.4312 - val_accuracy: 0.7925\n",
            "Epoch 93/100\n",
            "75/75 [==============================] - 3s 37ms/step - loss: 0.2727 - accuracy: 0.8821 - val_loss: 0.3783 - val_accuracy: 0.8225\n",
            "Epoch 94/100\n",
            "75/75 [==============================] - 3s 37ms/step - loss: 0.2768 - accuracy: 0.8754 - val_loss: 0.3339 - val_accuracy: 0.8600\n",
            "Epoch 95/100\n",
            "75/75 [==============================] - 4s 56ms/step - loss: 0.2750 - accuracy: 0.8696 - val_loss: 0.3306 - val_accuracy: 0.8425\n",
            "Epoch 96/100\n",
            "75/75 [==============================] - 3s 36ms/step - loss: 0.2721 - accuracy: 0.8746 - val_loss: 0.3986 - val_accuracy: 0.8375\n",
            "Epoch 97/100\n",
            "75/75 [==============================] - 3s 37ms/step - loss: 0.2539 - accuracy: 0.8900 - val_loss: 0.3326 - val_accuracy: 0.8600\n",
            "Epoch 98/100\n",
            "75/75 [==============================] - 3s 36ms/step - loss: 0.2466 - accuracy: 0.8942 - val_loss: 0.3441 - val_accuracy: 0.8300\n",
            "Epoch 99/100\n",
            "75/75 [==============================] - 4s 48ms/step - loss: 0.2439 - accuracy: 0.8942 - val_loss: 0.3406 - val_accuracy: 0.8325\n",
            "Epoch 100/100\n",
            "75/75 [==============================] - 3s 46ms/step - loss: 0.2446 - accuracy: 0.8917 - val_loss: 0.3227 - val_accuracy: 0.8475\n"
          ]
        },
        {
          "output_type": "execute_result",
          "data": {
            "text/plain": [
              "<keras.src.callbacks.History at 0x7c38db657550>"
            ]
          },
          "metadata": {},
          "execution_count": 32
        }
      ]
    },
    {
      "cell_type": "code",
      "source": [
        "model_test1.evaluate(x_t, y_t)"
      ],
      "metadata": {
        "colab": {
          "base_uri": "https://localhost:8080/"
        },
        "id": "jZpeKbo1ekBy",
        "outputId": "95655cab-5e7b-4f18-abca-3c6cd87e3e45"
      },
      "execution_count": 34,
      "outputs": [
        {
          "output_type": "stream",
          "name": "stdout",
          "text": [
            "13/13 [==============================] - 0s 26ms/step - loss: 0.3331 - accuracy: 0.8450\n"
          ]
        },
        {
          "output_type": "execute_result",
          "data": {
            "text/plain": [
              "[0.33308303356170654, 0.8450000286102295]"
            ]
          },
          "metadata": {},
          "execution_count": 34
        }
      ]
    },
    {
      "cell_type": "code",
      "source": [
        "model_test1.save(\"model_8psk_90%acc\")"
      ],
      "metadata": {
        "id": "-gzeOVctgZYJ"
      },
      "execution_count": 35,
      "outputs": []
    },
    {
      "cell_type": "code",
      "source": [
        "!zip -r model_8psk.zip /content/model_8psk_90%acc"
      ],
      "metadata": {
        "colab": {
          "base_uri": "https://localhost:8080/"
        },
        "id": "DRCZcCCygmM3",
        "outputId": "97b08e8f-0b6f-4958-893c-6f83d3f28649"
      },
      "execution_count": 36,
      "outputs": [
        {
          "output_type": "stream",
          "name": "stdout",
          "text": [
            "  adding: content/model_8psk_90%acc/ (stored 0%)\n",
            "  adding: content/model_8psk_90%acc/variables/ (stored 0%)\n",
            "  adding: content/model_8psk_90%acc/variables/variables.index (deflated 65%)\n",
            "  adding: content/model_8psk_90%acc/variables/variables.data-00000-of-00001 (deflated 10%)\n",
            "  adding: content/model_8psk_90%acc/keras_metadata.pb (deflated 91%)\n",
            "  adding: content/model_8psk_90%acc/saved_model.pb (deflated 88%)\n",
            "  adding: content/model_8psk_90%acc/assets/ (stored 0%)\n",
            "  adding: content/model_8psk_90%acc/fingerprint.pb (stored 0%)\n"
          ]
        }
      ]
    },
    {
      "cell_type": "code",
      "source": [
        "!zip -r logs_8psk.zip /content/logs_8psk_training"
      ],
      "metadata": {
        "colab": {
          "base_uri": "https://localhost:8080/"
        },
        "id": "o5jDf3L6gxPZ",
        "outputId": "c937dc78-f1ba-4143-a2e0-3e009b36371c"
      },
      "execution_count": 37,
      "outputs": [
        {
          "output_type": "stream",
          "name": "stdout",
          "text": [
            "  adding: content/logs_8psk_training/ (stored 0%)\n",
            "  adding: content/logs_8psk_training/validation/ (stored 0%)\n",
            "  adding: content/logs_8psk_training/validation/events.out.tfevents.1703029798.97196dc77dca.1537.1.v2 (deflated 79%)\n",
            "  adding: content/logs_8psk_training/train/ (stored 0%)\n",
            "  adding: content/logs_8psk_training/train/events.out.tfevents.1703029794.97196dc77dca.1537.0.v2 (deflated 85%)\n"
          ]
        }
      ]
    },
    {
      "cell_type": "code",
      "source": [],
      "metadata": {
        "id": "6uG3ka7Tg3qc"
      },
      "execution_count": null,
      "outputs": []
    }
  ]
}