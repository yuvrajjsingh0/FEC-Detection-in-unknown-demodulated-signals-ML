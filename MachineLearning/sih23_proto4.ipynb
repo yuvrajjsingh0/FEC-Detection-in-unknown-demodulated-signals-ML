{
  "nbformat": 4,
  "nbformat_minor": 0,
  "metadata": {
    "colab": {
      "provenance": []
    },
    "kernelspec": {
      "name": "python3",
      "display_name": "Python 3"
    },
    "language_info": {
      "name": "python"
    }
  },
  "cells": [
    {
      "cell_type": "code",
      "execution_count": null,
      "metadata": {
        "id": "zpF1ebbSF_zq"
      },
      "outputs": [],
      "source": [
        "import pandas as pd\n",
        "import numpy as np\n",
        "import matplotlib.pyplot as plt"
      ]
    },
    {
      "cell_type": "code",
      "source": [
        "turb0 = pd.read_csv(\"/content/turbo_0snr.csv\", header=None)\n",
        "turb0.head()"
      ],
      "metadata": {
        "colab": {
          "base_uri": "https://localhost:8080/",
          "height": 253
        },
        "id": "DjNvrFfZGIeD",
        "outputId": "2d5af9af-a021-41f0-f128-b5b946843ebe"
      },
      "execution_count": null,
      "outputs": [
        {
          "output_type": "execute_result",
          "data": {
            "text/plain": [
              "       0       1        2       3        4        5        6        7    \\\n",
              "0  2.17730 -3.0067 -0.85162 -3.2416 -1.40500  0.22823  0.29215  3.88010   \n",
              "1  0.55450  1.1336  0.57484 -5.3462 -0.65601 -2.28310  0.27607  0.27822   \n",
              "2  2.26400 -2.0649 -0.76759  1.4406 -3.65070 -0.88914 -0.16812  1.98640   \n",
              "3  1.53330 -1.2399  2.90040 -2.0888  1.62930 -0.17607 -1.23150 -0.10685   \n",
              "4 -0.10752  2.9015  2.03310 -2.0387 -0.43433 -3.53360  0.99233  2.13450   \n",
              "\n",
              "       8         9    ...      170     171       172      173      174  \\\n",
              "0 -2.59900  1.071800  ... -2.43530 -4.3399 -1.286500  2.96640 -1.12910   \n",
              "1 -0.44503  1.451700  ...  1.05950  1.1377 -0.000947  4.80580  2.44520   \n",
              "2 -3.02540 -0.086971  ... -0.69085 -5.2980 -0.510170 -2.11100  2.11910   \n",
              "3 -2.56480  1.021700  ... -3.52120 -4.6068 -0.000438 -0.72301 -2.09660   \n",
              "4 -1.01240  1.151900  ... -0.94284 -5.4584  1.336500  0.92591  0.76952   \n",
              "\n",
              "       175      176      177      178      179  \n",
              "0  4.65790  1.82460 -0.37768 -1.74190 -2.49230  \n",
              "1  2.84250 -1.51630  0.53506  0.18136 -1.97600  \n",
              "2  0.27615  1.01070 -0.85734 -2.63300 -2.31430  \n",
              "3  2.02080 -0.82231 -0.88059 -1.41660 -4.29860  \n",
              "4 -2.17980  0.81058  1.10720 -0.58262 -0.57582  \n",
              "\n",
              "[5 rows x 180 columns]"
            ],
            "text/html": [
              "\n",
              "  <div id=\"df-53bd7828-5300-4ed5-a413-d997151f5d81\" class=\"colab-df-container\">\n",
              "    <div>\n",
              "<style scoped>\n",
              "    .dataframe tbody tr th:only-of-type {\n",
              "        vertical-align: middle;\n",
              "    }\n",
              "\n",
              "    .dataframe tbody tr th {\n",
              "        vertical-align: top;\n",
              "    }\n",
              "\n",
              "    .dataframe thead th {\n",
              "        text-align: right;\n",
              "    }\n",
              "</style>\n",
              "<table border=\"1\" class=\"dataframe\">\n",
              "  <thead>\n",
              "    <tr style=\"text-align: right;\">\n",
              "      <th></th>\n",
              "      <th>0</th>\n",
              "      <th>1</th>\n",
              "      <th>2</th>\n",
              "      <th>3</th>\n",
              "      <th>4</th>\n",
              "      <th>5</th>\n",
              "      <th>6</th>\n",
              "      <th>7</th>\n",
              "      <th>8</th>\n",
              "      <th>9</th>\n",
              "      <th>...</th>\n",
              "      <th>170</th>\n",
              "      <th>171</th>\n",
              "      <th>172</th>\n",
              "      <th>173</th>\n",
              "      <th>174</th>\n",
              "      <th>175</th>\n",
              "      <th>176</th>\n",
              "      <th>177</th>\n",
              "      <th>178</th>\n",
              "      <th>179</th>\n",
              "    </tr>\n",
              "  </thead>\n",
              "  <tbody>\n",
              "    <tr>\n",
              "      <th>0</th>\n",
              "      <td>2.17730</td>\n",
              "      <td>-3.0067</td>\n",
              "      <td>-0.85162</td>\n",
              "      <td>-3.2416</td>\n",
              "      <td>-1.40500</td>\n",
              "      <td>0.22823</td>\n",
              "      <td>0.29215</td>\n",
              "      <td>3.88010</td>\n",
              "      <td>-2.59900</td>\n",
              "      <td>1.071800</td>\n",
              "      <td>...</td>\n",
              "      <td>-2.43530</td>\n",
              "      <td>-4.3399</td>\n",
              "      <td>-1.286500</td>\n",
              "      <td>2.96640</td>\n",
              "      <td>-1.12910</td>\n",
              "      <td>4.65790</td>\n",
              "      <td>1.82460</td>\n",
              "      <td>-0.37768</td>\n",
              "      <td>-1.74190</td>\n",
              "      <td>-2.49230</td>\n",
              "    </tr>\n",
              "    <tr>\n",
              "      <th>1</th>\n",
              "      <td>0.55450</td>\n",
              "      <td>1.1336</td>\n",
              "      <td>0.57484</td>\n",
              "      <td>-5.3462</td>\n",
              "      <td>-0.65601</td>\n",
              "      <td>-2.28310</td>\n",
              "      <td>0.27607</td>\n",
              "      <td>0.27822</td>\n",
              "      <td>-0.44503</td>\n",
              "      <td>1.451700</td>\n",
              "      <td>...</td>\n",
              "      <td>1.05950</td>\n",
              "      <td>1.1377</td>\n",
              "      <td>-0.000947</td>\n",
              "      <td>4.80580</td>\n",
              "      <td>2.44520</td>\n",
              "      <td>2.84250</td>\n",
              "      <td>-1.51630</td>\n",
              "      <td>0.53506</td>\n",
              "      <td>0.18136</td>\n",
              "      <td>-1.97600</td>\n",
              "    </tr>\n",
              "    <tr>\n",
              "      <th>2</th>\n",
              "      <td>2.26400</td>\n",
              "      <td>-2.0649</td>\n",
              "      <td>-0.76759</td>\n",
              "      <td>1.4406</td>\n",
              "      <td>-3.65070</td>\n",
              "      <td>-0.88914</td>\n",
              "      <td>-0.16812</td>\n",
              "      <td>1.98640</td>\n",
              "      <td>-3.02540</td>\n",
              "      <td>-0.086971</td>\n",
              "      <td>...</td>\n",
              "      <td>-0.69085</td>\n",
              "      <td>-5.2980</td>\n",
              "      <td>-0.510170</td>\n",
              "      <td>-2.11100</td>\n",
              "      <td>2.11910</td>\n",
              "      <td>0.27615</td>\n",
              "      <td>1.01070</td>\n",
              "      <td>-0.85734</td>\n",
              "      <td>-2.63300</td>\n",
              "      <td>-2.31430</td>\n",
              "    </tr>\n",
              "    <tr>\n",
              "      <th>3</th>\n",
              "      <td>1.53330</td>\n",
              "      <td>-1.2399</td>\n",
              "      <td>2.90040</td>\n",
              "      <td>-2.0888</td>\n",
              "      <td>1.62930</td>\n",
              "      <td>-0.17607</td>\n",
              "      <td>-1.23150</td>\n",
              "      <td>-0.10685</td>\n",
              "      <td>-2.56480</td>\n",
              "      <td>1.021700</td>\n",
              "      <td>...</td>\n",
              "      <td>-3.52120</td>\n",
              "      <td>-4.6068</td>\n",
              "      <td>-0.000438</td>\n",
              "      <td>-0.72301</td>\n",
              "      <td>-2.09660</td>\n",
              "      <td>2.02080</td>\n",
              "      <td>-0.82231</td>\n",
              "      <td>-0.88059</td>\n",
              "      <td>-1.41660</td>\n",
              "      <td>-4.29860</td>\n",
              "    </tr>\n",
              "    <tr>\n",
              "      <th>4</th>\n",
              "      <td>-0.10752</td>\n",
              "      <td>2.9015</td>\n",
              "      <td>2.03310</td>\n",
              "      <td>-2.0387</td>\n",
              "      <td>-0.43433</td>\n",
              "      <td>-3.53360</td>\n",
              "      <td>0.99233</td>\n",
              "      <td>2.13450</td>\n",
              "      <td>-1.01240</td>\n",
              "      <td>1.151900</td>\n",
              "      <td>...</td>\n",
              "      <td>-0.94284</td>\n",
              "      <td>-5.4584</td>\n",
              "      <td>1.336500</td>\n",
              "      <td>0.92591</td>\n",
              "      <td>0.76952</td>\n",
              "      <td>-2.17980</td>\n",
              "      <td>0.81058</td>\n",
              "      <td>1.10720</td>\n",
              "      <td>-0.58262</td>\n",
              "      <td>-0.57582</td>\n",
              "    </tr>\n",
              "  </tbody>\n",
              "</table>\n",
              "<p>5 rows × 180 columns</p>\n",
              "</div>\n",
              "    <div class=\"colab-df-buttons\">\n",
              "\n",
              "  <div class=\"colab-df-container\">\n",
              "    <button class=\"colab-df-convert\" onclick=\"convertToInteractive('df-53bd7828-5300-4ed5-a413-d997151f5d81')\"\n",
              "            title=\"Convert this dataframe to an interactive table.\"\n",
              "            style=\"display:none;\">\n",
              "\n",
              "  <svg xmlns=\"http://www.w3.org/2000/svg\" height=\"24px\" viewBox=\"0 -960 960 960\">\n",
              "    <path d=\"M120-120v-720h720v720H120Zm60-500h600v-160H180v160Zm220 220h160v-160H400v160Zm0 220h160v-160H400v160ZM180-400h160v-160H180v160Zm440 0h160v-160H620v160ZM180-180h160v-160H180v160Zm440 0h160v-160H620v160Z\"/>\n",
              "  </svg>\n",
              "    </button>\n",
              "\n",
              "  <style>\n",
              "    .colab-df-container {\n",
              "      display:flex;\n",
              "      gap: 12px;\n",
              "    }\n",
              "\n",
              "    .colab-df-convert {\n",
              "      background-color: #E8F0FE;\n",
              "      border: none;\n",
              "      border-radius: 50%;\n",
              "      cursor: pointer;\n",
              "      display: none;\n",
              "      fill: #1967D2;\n",
              "      height: 32px;\n",
              "      padding: 0 0 0 0;\n",
              "      width: 32px;\n",
              "    }\n",
              "\n",
              "    .colab-df-convert:hover {\n",
              "      background-color: #E2EBFA;\n",
              "      box-shadow: 0px 1px 2px rgba(60, 64, 67, 0.3), 0px 1px 3px 1px rgba(60, 64, 67, 0.15);\n",
              "      fill: #174EA6;\n",
              "    }\n",
              "\n",
              "    .colab-df-buttons div {\n",
              "      margin-bottom: 4px;\n",
              "    }\n",
              "\n",
              "    [theme=dark] .colab-df-convert {\n",
              "      background-color: #3B4455;\n",
              "      fill: #D2E3FC;\n",
              "    }\n",
              "\n",
              "    [theme=dark] .colab-df-convert:hover {\n",
              "      background-color: #434B5C;\n",
              "      box-shadow: 0px 1px 3px 1px rgba(0, 0, 0, 0.15);\n",
              "      filter: drop-shadow(0px 1px 2px rgba(0, 0, 0, 0.3));\n",
              "      fill: #FFFFFF;\n",
              "    }\n",
              "  </style>\n",
              "\n",
              "    <script>\n",
              "      const buttonEl =\n",
              "        document.querySelector('#df-53bd7828-5300-4ed5-a413-d997151f5d81 button.colab-df-convert');\n",
              "      buttonEl.style.display =\n",
              "        google.colab.kernel.accessAllowed ? 'block' : 'none';\n",
              "\n",
              "      async function convertToInteractive(key) {\n",
              "        const element = document.querySelector('#df-53bd7828-5300-4ed5-a413-d997151f5d81');\n",
              "        const dataTable =\n",
              "          await google.colab.kernel.invokeFunction('convertToInteractive',\n",
              "                                                    [key], {});\n",
              "        if (!dataTable) return;\n",
              "\n",
              "        const docLinkHtml = 'Like what you see? Visit the ' +\n",
              "          '<a target=\"_blank\" href=https://colab.research.google.com/notebooks/data_table.ipynb>data table notebook</a>'\n",
              "          + ' to learn more about interactive tables.';\n",
              "        element.innerHTML = '';\n",
              "        dataTable['output_type'] = 'display_data';\n",
              "        await google.colab.output.renderOutput(dataTable, element);\n",
              "        const docLink = document.createElement('div');\n",
              "        docLink.innerHTML = docLinkHtml;\n",
              "        element.appendChild(docLink);\n",
              "      }\n",
              "    </script>\n",
              "  </div>\n",
              "\n",
              "\n",
              "<div id=\"df-b85b1c3d-e186-4d13-bded-03444ace8156\">\n",
              "  <button class=\"colab-df-quickchart\" onclick=\"quickchart('df-b85b1c3d-e186-4d13-bded-03444ace8156')\"\n",
              "            title=\"Suggest charts\"\n",
              "            style=\"display:none;\">\n",
              "\n",
              "<svg xmlns=\"http://www.w3.org/2000/svg\" height=\"24px\"viewBox=\"0 0 24 24\"\n",
              "     width=\"24px\">\n",
              "    <g>\n",
              "        <path d=\"M19 3H5c-1.1 0-2 .9-2 2v14c0 1.1.9 2 2 2h14c1.1 0 2-.9 2-2V5c0-1.1-.9-2-2-2zM9 17H7v-7h2v7zm4 0h-2V7h2v10zm4 0h-2v-4h2v4z\"/>\n",
              "    </g>\n",
              "</svg>\n",
              "  </button>\n",
              "\n",
              "<style>\n",
              "  .colab-df-quickchart {\n",
              "      --bg-color: #E8F0FE;\n",
              "      --fill-color: #1967D2;\n",
              "      --hover-bg-color: #E2EBFA;\n",
              "      --hover-fill-color: #174EA6;\n",
              "      --disabled-fill-color: #AAA;\n",
              "      --disabled-bg-color: #DDD;\n",
              "  }\n",
              "\n",
              "  [theme=dark] .colab-df-quickchart {\n",
              "      --bg-color: #3B4455;\n",
              "      --fill-color: #D2E3FC;\n",
              "      --hover-bg-color: #434B5C;\n",
              "      --hover-fill-color: #FFFFFF;\n",
              "      --disabled-bg-color: #3B4455;\n",
              "      --disabled-fill-color: #666;\n",
              "  }\n",
              "\n",
              "  .colab-df-quickchart {\n",
              "    background-color: var(--bg-color);\n",
              "    border: none;\n",
              "    border-radius: 50%;\n",
              "    cursor: pointer;\n",
              "    display: none;\n",
              "    fill: var(--fill-color);\n",
              "    height: 32px;\n",
              "    padding: 0;\n",
              "    width: 32px;\n",
              "  }\n",
              "\n",
              "  .colab-df-quickchart:hover {\n",
              "    background-color: var(--hover-bg-color);\n",
              "    box-shadow: 0 1px 2px rgba(60, 64, 67, 0.3), 0 1px 3px 1px rgba(60, 64, 67, 0.15);\n",
              "    fill: var(--button-hover-fill-color);\n",
              "  }\n",
              "\n",
              "  .colab-df-quickchart-complete:disabled,\n",
              "  .colab-df-quickchart-complete:disabled:hover {\n",
              "    background-color: var(--disabled-bg-color);\n",
              "    fill: var(--disabled-fill-color);\n",
              "    box-shadow: none;\n",
              "  }\n",
              "\n",
              "  .colab-df-spinner {\n",
              "    border: 2px solid var(--fill-color);\n",
              "    border-color: transparent;\n",
              "    border-bottom-color: var(--fill-color);\n",
              "    animation:\n",
              "      spin 1s steps(1) infinite;\n",
              "  }\n",
              "\n",
              "  @keyframes spin {\n",
              "    0% {\n",
              "      border-color: transparent;\n",
              "      border-bottom-color: var(--fill-color);\n",
              "      border-left-color: var(--fill-color);\n",
              "    }\n",
              "    20% {\n",
              "      border-color: transparent;\n",
              "      border-left-color: var(--fill-color);\n",
              "      border-top-color: var(--fill-color);\n",
              "    }\n",
              "    30% {\n",
              "      border-color: transparent;\n",
              "      border-left-color: var(--fill-color);\n",
              "      border-top-color: var(--fill-color);\n",
              "      border-right-color: var(--fill-color);\n",
              "    }\n",
              "    40% {\n",
              "      border-color: transparent;\n",
              "      border-right-color: var(--fill-color);\n",
              "      border-top-color: var(--fill-color);\n",
              "    }\n",
              "    60% {\n",
              "      border-color: transparent;\n",
              "      border-right-color: var(--fill-color);\n",
              "    }\n",
              "    80% {\n",
              "      border-color: transparent;\n",
              "      border-right-color: var(--fill-color);\n",
              "      border-bottom-color: var(--fill-color);\n",
              "    }\n",
              "    90% {\n",
              "      border-color: transparent;\n",
              "      border-bottom-color: var(--fill-color);\n",
              "    }\n",
              "  }\n",
              "</style>\n",
              "\n",
              "  <script>\n",
              "    async function quickchart(key) {\n",
              "      const quickchartButtonEl =\n",
              "        document.querySelector('#' + key + ' button');\n",
              "      quickchartButtonEl.disabled = true;  // To prevent multiple clicks.\n",
              "      quickchartButtonEl.classList.add('colab-df-spinner');\n",
              "      try {\n",
              "        const charts = await google.colab.kernel.invokeFunction(\n",
              "            'suggestCharts', [key], {});\n",
              "      } catch (error) {\n",
              "        console.error('Error during call to suggestCharts:', error);\n",
              "      }\n",
              "      quickchartButtonEl.classList.remove('colab-df-spinner');\n",
              "      quickchartButtonEl.classList.add('colab-df-quickchart-complete');\n",
              "    }\n",
              "    (() => {\n",
              "      let quickchartButtonEl =\n",
              "        document.querySelector('#df-b85b1c3d-e186-4d13-bded-03444ace8156 button');\n",
              "      quickchartButtonEl.style.display =\n",
              "        google.colab.kernel.accessAllowed ? 'block' : 'none';\n",
              "    })();\n",
              "  </script>\n",
              "</div>\n",
              "\n",
              "    </div>\n",
              "  </div>\n"
            ]
          },
          "metadata": {},
          "execution_count": 4
        }
      ]
    },
    {
      "cell_type": "code",
      "source": [
        "x = []\n",
        "for i in range(100):\n",
        "  x.append(turb0.iloc[:774, i].values)"
      ],
      "metadata": {
        "id": "E4zCOKbCGhsY"
      },
      "execution_count": null,
      "outputs": []
    },
    {
      "cell_type": "code",
      "source": [
        "import os\n"
      ],
      "metadata": {
        "id": "thpqa2KMGmAM"
      },
      "execution_count": null,
      "outputs": []
    },
    {
      "cell_type": "code",
      "source": [
        "x = []\n",
        "for i in os.listdir():\n",
        "  if \"csv\" in i:\n",
        "    print(\"Compiling file :\", i)\n",
        "    turb0 = pd.read_csv(i, header=None)\n",
        "    for i in range(100):\n",
        "      x.append(turb0.iloc[:774, i].values)"
      ],
      "metadata": {
        "colab": {
          "base_uri": "https://localhost:8080/"
        },
        "id": "bGBfcJQYHyMz",
        "outputId": "d4d89c91-9e1b-4d48-c2b4-83a4e06a9c3d"
      },
      "execution_count": null,
      "outputs": [
        {
          "output_type": "stream",
          "name": "stdout",
          "text": [
            "Compiling file : turbo_4snr.csv\n",
            "Compiling file : turbo_5snr.csv\n",
            "Compiling file : turbo_0snr.csv\n",
            "Compiling file : turbo_6snr.csv\n",
            "Compiling file : turbo_9snr.csv\n",
            "Compiling file : turbo_10snr.csv\n",
            "Compiling file : turbo_2snr.csv\n",
            "Compiling file : turbo_7snr.csv\n",
            "Compiling file : turbo_8snr.csv\n",
            "Compiling file : turbo_1snr.csv\n",
            "Compiling file : turbo_3snr.csv\n"
          ]
        }
      ]
    },
    {
      "cell_type": "code",
      "source": [
        "X = np.array(x)\n",
        "X.shape"
      ],
      "metadata": {
        "colab": {
          "base_uri": "https://localhost:8080/"
        },
        "id": "CE1rl5ApIE5J",
        "outputId": "13b20676-c1ea-4383-894c-56603b0de6b5"
      },
      "execution_count": null,
      "outputs": [
        {
          "output_type": "execute_result",
          "data": {
            "text/plain": [
              "(1100, 774)"
            ]
          },
          "metadata": {},
          "execution_count": 18
        }
      ]
    },
    {
      "cell_type": "code",
      "source": [
        "np.savetxt(\"turbo-code.csv\", X, delimiter=\",\")"
      ],
      "metadata": {
        "id": "OwmVbz8rIhQp"
      },
      "execution_count": null,
      "outputs": []
    },
    {
      "cell_type": "code",
      "source": [
        "df1 = pd.read_csv(\"combined-data.csv\")\n",
        "print(df1.values.shape)\n",
        "df2 = pd.read_csv(\"turbo-code.csv\")\n",
        "print(df2.values.shape)"
      ],
      "metadata": {
        "colab": {
          "base_uri": "https://localhost:8080/"
        },
        "id": "m_W1yxJkJGIK",
        "outputId": "a658ab90-275b-4dee-ee78-e1c9b21b2cc1"
      },
      "execution_count": null,
      "outputs": [
        {
          "output_type": "stream",
          "name": "stdout",
          "text": [
            "(1999, 774)\n",
            "(1099, 774)\n"
          ]
        },
        {
          "output_type": "execute_result",
          "data": {
            "text/plain": [
              "(3098, 1548)"
            ]
          },
          "metadata": {},
          "execution_count": 26
        }
      ]
    },
    {
      "cell_type": "code",
      "source": [
        "turbo_cbh_hamming_df.values.shape"
      ],
      "metadata": {
        "colab": {
          "base_uri": "https://localhost:8080/"
        },
        "id": "dbmB1OICNby7",
        "outputId": "f2cbdc2e-edc1-499a-94a6-e1ee53ae8c4c"
      },
      "execution_count": null,
      "outputs": [
        {
          "output_type": "execute_result",
          "data": {
            "text/plain": [
              "(1999, 1548)"
            ]
          },
          "metadata": {},
          "execution_count": 24
        }
      ]
    },
    {
      "cell_type": "code",
      "source": [
        "!unzip -q Conv.zip"
      ],
      "metadata": {
        "id": "gIuW6eXHNg8r"
      },
      "execution_count": null,
      "outputs": []
    },
    {
      "cell_type": "code",
      "source": [
        "x = []\n",
        "for i in os.listdir(\"/content/Conv\"):\n",
        "  if \"csv\" in i:\n",
        "    print(\"Compiling file :\", i)\n",
        "    turb0 = pd.read_csv(\"/content/Conv/\" + i, header=None)\n",
        "    for i in range(100):\n",
        "      x.append(turb0.iloc[:774, i].values)"
      ],
      "metadata": {
        "colab": {
          "base_uri": "https://localhost:8080/"
        },
        "id": "doY3AFbtOENX",
        "outputId": "4edee571-c377-4e68-ae21-8fa8b02ed575"
      },
      "execution_count": null,
      "outputs": [
        {
          "output_type": "stream",
          "name": "stdout",
          "text": [
            "Compiling file : conv_5snr.csv\n",
            "Compiling file : conv_6snr.csv\n",
            "Compiling file : conv_8snr.csv\n",
            "Compiling file : conv_1snr.csv\n",
            "Compiling file : conv_4snr.csv\n",
            "Compiling file : conv_9snr.csv\n",
            "Compiling file : conv_2snr.csv\n",
            "Compiling file : conv_3snr.csv\n",
            "Compiling file : conv_10snr.csv\n",
            "Compiling file : conv_0snr.csv\n",
            "Compiling file : conv_7snr.csv\n"
          ]
        }
      ]
    },
    {
      "cell_type": "code",
      "source": [
        "X = np.array(x)\n",
        "X.shape"
      ],
      "metadata": {
        "colab": {
          "base_uri": "https://localhost:8080/"
        },
        "id": "qfTVOaxLOWFs",
        "outputId": "493b55d4-024d-4249-e9bc-27bfea9b291b"
      },
      "execution_count": null,
      "outputs": [
        {
          "output_type": "execute_result",
          "data": {
            "text/plain": [
              "(1100, 774)"
            ]
          },
          "metadata": {},
          "execution_count": 35
        }
      ]
    },
    {
      "cell_type": "code",
      "source": [
        "np.savetxt(\"conv-codes.csv\", X, delimiter=\",\")"
      ],
      "metadata": {
        "id": "Nyn-O6g-Oa-V"
      },
      "execution_count": null,
      "outputs": []
    },
    {
      "cell_type": "markdown",
      "source": [
        "# Dataset Combination"
      ],
      "metadata": {
        "id": "JAijmH3ZQGAf"
      }
    },
    {
      "cell_type": "code",
      "source": [
        "df_append = []\n",
        "y = []\n",
        "csv_files = [\"bch-data.csv\", \"hamming-data.csv\", \"conv-codes.csv\", \"turbo-code.csv\"]\n",
        "\n",
        "xx = 0\n",
        "for file in csv_files:\n",
        "  df_temp = pd.read_csv(file)\n",
        "  for i in range(len(df_temp)):\n",
        "    val =  df_temp.iloc[i, :].values\n",
        "    df_append.append(val)\n",
        "    y.append(xx)\n",
        "  xx +=1"
      ],
      "metadata": {
        "id": "8M1D9aQVQFoj"
      },
      "execution_count": null,
      "outputs": []
    },
    {
      "cell_type": "code",
      "source": [
        "df23 = np.array(df_append)\n",
        "df23.shape"
      ],
      "metadata": {
        "colab": {
          "base_uri": "https://localhost:8080/"
        },
        "id": "vc2ZtI7QP4aF",
        "outputId": "74a37d75-ee82-4764-97b6-0c89b88ae973"
      },
      "execution_count": null,
      "outputs": [
        {
          "output_type": "execute_result",
          "data": {
            "text/plain": [
              "(4196, 774)"
            ]
          },
          "metadata": {},
          "execution_count": 57
        }
      ]
    },
    {
      "cell_type": "code",
      "source": [
        "Y = np.array(y)\n",
        "Y.shape"
      ],
      "metadata": {
        "colab": {
          "base_uri": "https://localhost:8080/"
        },
        "id": "HmddfINETJAg",
        "outputId": "30b147a2-6f1d-4dfb-cef7-a5cc5d314fa5"
      },
      "execution_count": null,
      "outputs": [
        {
          "output_type": "execute_result",
          "data": {
            "text/plain": [
              "(4196,)"
            ]
          },
          "metadata": {},
          "execution_count": 60
        }
      ]
    },
    {
      "cell_type": "code",
      "source": [
        "np.savetxt(\"final-data-bpsk.csv\", df23, delimiter=\",\")\n",
        "np.savetxt(\"final-variable-bpsk.csv\", Y, delimiter=\",\")"
      ],
      "metadata": {
        "id": "h401kWM_W6aY"
      },
      "execution_count": null,
      "outputs": []
    },
    {
      "cell_type": "code",
      "source": [],
      "metadata": {
        "id": "mYO8IMGNzIwt"
      },
      "execution_count": null,
      "outputs": []
    }
  ]
}