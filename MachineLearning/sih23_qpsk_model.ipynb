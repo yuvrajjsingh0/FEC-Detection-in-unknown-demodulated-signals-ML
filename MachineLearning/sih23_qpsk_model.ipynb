{
  "nbformat": 4,
  "nbformat_minor": 0,
  "metadata": {
    "colab": {
      "provenance": []
    },
    "kernelspec": {
      "name": "python3",
      "display_name": "Python 3"
    },
    "language_info": {
      "name": "python"
    }
  },
  "cells": [
    {
      "cell_type": "code",
      "execution_count": 3,
      "metadata": {
        "id": "G4TlfJGmTVGB"
      },
      "outputs": [],
      "source": [
        "import tensorflow as tf\n",
        "import numpy as np\n",
        "import keras\n",
        "import pandas as pd\n",
        "import os"
      ]
    },
    {
      "cell_type": "code",
      "source": [
        "!unzip -q QPSK.zip"
      ],
      "metadata": {
        "id": "xszKLJO2TpLj"
      },
      "execution_count": 2,
      "outputs": []
    },
    {
      "cell_type": "code",
      "source": [
        "x = []\n",
        "y = []\n",
        "for i in os.listdir(\"/content/QPSK/bch\"):\n",
        "  print(\"Compiling file :\", i)\n",
        "  conv_0 = pd.read_csv(\"/content/QPSK/bch/\"+i, header=None)\n",
        "  for j in range(100):\n",
        "    x.append(conv_0.iloc[:200, j].values)\n",
        "    y.append(0)\n",
        "\n",
        "for i in os.listdir(\"/content/QPSK/conv\"):\n",
        "  print(\"Compiling file :\", i)\n",
        "  conv_0 = pd.read_csv(\"/content/QPSK/conv/\"+i, header=None)\n",
        "  for j in range(100):\n",
        "    x.append(conv_0.iloc[:200, j].values)\n",
        "    y.append(1)\n",
        "\n",
        "for i in os.listdir(\"/content/QPSK/tpc\"):\n",
        "  print(\"Compiling file :\", i)\n",
        "  conv_0 = pd.read_csv(\"/content/QPSK/tpc/\"+i, header=None)\n",
        "  for j in range(100):\n",
        "    x.append(conv_0.iloc[:200, j].values)\n",
        "    y.append(2)\n",
        "\n",
        "for i in os.listdir(\"/content/QPSK/turbo\"):\n",
        "  print(\"Compiling file :\", i)\n",
        "  conv_0 = pd.read_csv(\"/content/QPSK/turbo/\"+i, header=None)\n",
        "  for j in range(50):\n",
        "    x.append(conv_0.iloc[:200, j].values)\n",
        "    y.append(3)\n",
        "\n",
        "X = np.array(x)\n",
        "X.shape"
      ],
      "metadata": {
        "colab": {
          "base_uri": "https://localhost:8080/"
        },
        "id": "3qpoj4ToU2Gx",
        "outputId": "be7277a4-ab67-4dd1-905c-18bce4d9f84a"
      },
      "execution_count": 6,
      "outputs": [
        {
          "output_type": "stream",
          "name": "stdout",
          "text": [
            "Compiling file : bch_2snr.csv\n",
            "Compiling file : bch_10snr.csv\n",
            "Compiling file : bch_3snr.csv\n",
            "Compiling file : bch_9snr.csv\n",
            "Compiling file : bch_7snr.csv\n",
            "Compiling file : bch_8snr.csv\n",
            "Compiling file : bch_6snr.csv\n",
            "Compiling file : bch_1snr.csv\n",
            "Compiling file : bch_4snr.csv\n",
            "Compiling file : bch_0snr.csv\n",
            "Compiling file : bch_5snr.csv\n",
            "Compiling file : conv_5snr.csv\n",
            "Compiling file : conv_4snr.csv\n",
            "Compiling file : conv_6snr.csv\n",
            "Compiling file : conv_9snr.csv\n",
            "Compiling file : conv_0snr.csv\n",
            "Compiling file : conv_3snr.csv\n",
            "Compiling file : conv_1snr.csv\n",
            "Compiling file : conv_10snr.csv\n",
            "Compiling file : conv_2snr.csv\n",
            "Compiling file : conv_8snr.csv\n",
            "Compiling file : conv_7snr.csv\n",
            "Compiling file : tpc_5snr.csv\n",
            "Compiling file : tpc_3snr.csv\n",
            "Compiling file : tpc_8snr.csv\n",
            "Compiling file : tpc_10snr.csv\n",
            "Compiling file : tpc_9snr.csv\n",
            "Compiling file : tpc_6snr.csv\n",
            "Compiling file : tpc_0snr.csv\n",
            "Compiling file : tpc_2snr.csv\n",
            "Compiling file : tpc_1snr.csv\n",
            "Compiling file : tpc_7snr.csv\n",
            "Compiling file : tpc_4snr.csv\n",
            "Compiling file : qpskturbo_1snr.csv\n",
            "Compiling file : qpskturbo_8snr.csv\n",
            "Compiling file : qpskturbo_0snr.csv\n",
            "Compiling file : qpskturbo_4snr.csv\n",
            "Compiling file : qpskturbo_5snr.csv\n",
            "Compiling file : qpskturbo_3snr.csv\n",
            "Compiling file : qpskturbo_2snr.csv\n",
            "Compiling file : qpskturbo_7snr.csv\n",
            "Compiling file : qpskturbo_9snr.csv\n",
            "Compiling file : qpskturbo_6snr.csv\n",
            "Compiling file : qpskturbo_10snr.csv\n"
          ]
        },
        {
          "output_type": "execute_result",
          "data": {
            "text/plain": [
              "(3850, 200)"
            ]
          },
          "metadata": {},
          "execution_count": 6
        }
      ]
    },
    {
      "cell_type": "code",
      "source": [
        "x_data = []\n",
        "for i in x:\n",
        "  x_data.append([[x] for x in i])\n",
        "\n",
        "x_data = np.array(x_data)"
      ],
      "metadata": {
        "id": "p4bhip__WClm"
      },
      "execution_count": 7,
      "outputs": []
    },
    {
      "cell_type": "code",
      "source": [
        "x_data.shape"
      ],
      "metadata": {
        "colab": {
          "base_uri": "https://localhost:8080/"
        },
        "id": "fxUqICGQbNkF",
        "outputId": "1f81508f-9fcc-4622-d8c5-f6ebde1ffe31"
      },
      "execution_count": 8,
      "outputs": [
        {
          "output_type": "execute_result",
          "data": {
            "text/plain": [
              "(3850, 200, 1)"
            ]
          },
          "metadata": {},
          "execution_count": 8
        }
      ]
    },
    {
      "cell_type": "code",
      "source": [
        "Y = np.array(y)"
      ],
      "metadata": {
        "id": "b3ApJPH-f-M7"
      },
      "execution_count": 13,
      "outputs": []
    },
    {
      "cell_type": "code",
      "source": [
        "from sklearn.model_selection import train_test_split\n",
        "x_train, x_test, y_train, y_test = train_test_split(x_data, Y, test_size=0.25, shuffle=True, stratify=Y)\n",
        "x_train.shape, x_test.shape, y_train.shape, y_test.shape"
      ],
      "metadata": {
        "colab": {
          "base_uri": "https://localhost:8080/"
        },
        "id": "BpjkWR_ubO9J",
        "outputId": "2a5dfb2d-7444-4548-d4f2-1a7450a1a51d"
      },
      "execution_count": 17,
      "outputs": [
        {
          "output_type": "execute_result",
          "data": {
            "text/plain": [
              "((2887, 200, 1), (963, 200, 1), (2887,), (963,))"
            ]
          },
          "metadata": {},
          "execution_count": 17
        }
      ]
    },
    {
      "cell_type": "code",
      "source": [
        "x_t, x_v, y_t, y_v = train_test_split(x_test, y_test, test_size=0.50, shuffle=True, stratify=y_test)\n",
        "x_t.shape, x_v.shape, y_t.shape, y_v.shape"
      ],
      "metadata": {
        "colab": {
          "base_uri": "https://localhost:8080/"
        },
        "id": "wFfN-IFBfIWG",
        "outputId": "c20319c0-f591-4672-a47b-0dc5fad8f002"
      },
      "execution_count": 18,
      "outputs": [
        {
          "output_type": "execute_result",
          "data": {
            "text/plain": [
              "((481, 200, 1), (482, 200, 1), (481,), (482,))"
            ]
          },
          "metadata": {},
          "execution_count": 18
        }
      ]
    },
    {
      "cell_type": "code",
      "source": [
        "inp_layer = keras.layers.Input(shape=(200,1))\n",
        "\n",
        "#conv1-64, 3x1\n",
        "x = keras.layers.Conv1D(filters=64, kernel_size=3)(inp_layer)\n",
        "x_act = keras.layers.Activation(tf.nn.relu)(x)\n",
        "\n",
        "#conv1-64, 3x1\n",
        "x = keras.layers.Conv1D(filters=64, kernel_size=3)(x_act)\n",
        "x_act = keras.layers.Activation(tf.nn.relu)(x)\n",
        "\n",
        "#conv1-128, 3x1\n",
        "x = keras.layers.Conv1D(filters=128, kernel_size=3)(x_act)\n",
        "x_act = keras.layers.Activation(tf.nn.relu)(x)\n",
        "\n",
        "#global average pooling\n",
        "gap = keras.layers.GlobalAveragePooling1D()(x_act)\n",
        "\n",
        "#dense\n",
        "d1 = keras.layers.Dense(64, activation=\"relu\")(gap)\n",
        "d2 = keras.layers.Dense(64, activation=\"relu\")(d1)\n",
        "out_layer = keras.layers.Dense(4, activation=\"sigmoid\")(d2)\n",
        "\n",
        "model_test1 = keras.Model(inp_layer, out_layer)\n",
        "\n",
        "model_test1.summary()"
      ],
      "metadata": {
        "colab": {
          "base_uri": "https://localhost:8080/"
        },
        "id": "6E-15Kd7gIJ7",
        "outputId": "3af9c297-7617-4648-e955-bfa8f4ef8f90"
      },
      "execution_count": 20,
      "outputs": [
        {
          "output_type": "stream",
          "name": "stdout",
          "text": [
            "Model: \"model_1\"\n",
            "_________________________________________________________________\n",
            " Layer (type)                Output Shape              Param #   \n",
            "=================================================================\n",
            " input_2 (InputLayer)        [(None, 200, 1)]          0         \n",
            "                                                                 \n",
            " conv1d_3 (Conv1D)           (None, 198, 64)           256       \n",
            "                                                                 \n",
            " activation_3 (Activation)   (None, 198, 64)           0         \n",
            "                                                                 \n",
            " conv1d_4 (Conv1D)           (None, 196, 64)           12352     \n",
            "                                                                 \n",
            " activation_4 (Activation)   (None, 196, 64)           0         \n",
            "                                                                 \n",
            " conv1d_5 (Conv1D)           (None, 194, 128)          24704     \n",
            "                                                                 \n",
            " activation_5 (Activation)   (None, 194, 128)          0         \n",
            "                                                                 \n",
            " global_average_pooling1d_1  (None, 128)               0         \n",
            "  (GlobalAveragePooling1D)                                       \n",
            "                                                                 \n",
            " dense_3 (Dense)             (None, 64)                8256      \n",
            "                                                                 \n",
            " dense_4 (Dense)             (None, 64)                4160      \n",
            "                                                                 \n",
            " dense_5 (Dense)             (None, 4)                 260       \n",
            "                                                                 \n",
            "=================================================================\n",
            "Total params: 49988 (195.27 KB)\n",
            "Trainable params: 49988 (195.27 KB)\n",
            "Non-trainable params: 0 (0.00 Byte)\n",
            "_________________________________________________________________\n"
          ]
        }
      ]
    },
    {
      "cell_type": "code",
      "source": [
        "model_test1.compile(\n",
        "    optimizer=\"adam\",\n",
        "    loss = \"sparse_categorical_crossentropy\",\n",
        "    metrics=[\"accuracy\"]\n",
        ")"
      ],
      "metadata": {
        "id": "h7DR9MuchRA2"
      },
      "execution_count": 21,
      "outputs": []
    },
    {
      "cell_type": "code",
      "source": [
        "callbacks=[\n",
        "    tf.keras.callbacks.ModelCheckpoint(\"model_qpsk\"),\n",
        "    tf.keras.callbacks.TensorBoard(\"logs_qpsk\")\n",
        "]"
      ],
      "metadata": {
        "id": "JfTJQ3DxhoxY"
      },
      "execution_count": 22,
      "outputs": []
    },
    {
      "cell_type": "code",
      "source": [
        "model_test1.fit(x_train, y_train, epochs=50, validation_data=(x_v, y_v), callbacks=callbacks)"
      ],
      "metadata": {
        "colab": {
          "base_uri": "https://localhost:8080/"
        },
        "id": "oP29wLOzhegq",
        "outputId": "d2e04d82-7278-42c9-8755-470a20355df2"
      },
      "execution_count": 24,
      "outputs": [
        {
          "output_type": "stream",
          "name": "stdout",
          "text": [
            "Epoch 1/50\n",
            "91/91 [==============================] - 5s 57ms/step - loss: 0.2706 - accuracy: 0.8795 - val_loss: 0.3340 - val_accuracy: 0.8734\n",
            "Epoch 2/50\n",
            "91/91 [==============================] - 5s 57ms/step - loss: 0.2739 - accuracy: 0.8788 - val_loss: 0.3568 - val_accuracy: 0.8589\n",
            "Epoch 3/50\n",
            "91/91 [==============================] - 7s 82ms/step - loss: 0.2870 - accuracy: 0.8649 - val_loss: 0.3326 - val_accuracy: 0.8672\n",
            "Epoch 4/50\n",
            "91/91 [==============================] - 5s 52ms/step - loss: 0.2646 - accuracy: 0.8899 - val_loss: 0.3224 - val_accuracy: 0.8672\n",
            "Epoch 5/50\n",
            "91/91 [==============================] - 5s 59ms/step - loss: 0.2635 - accuracy: 0.8822 - val_loss: 0.3126 - val_accuracy: 0.8859\n",
            "Epoch 6/50\n",
            "91/91 [==============================] - 5s 59ms/step - loss: 0.2590 - accuracy: 0.8847 - val_loss: 0.3155 - val_accuracy: 0.8838\n",
            "Epoch 7/50\n",
            "91/91 [==============================] - 5s 57ms/step - loss: 0.2670 - accuracy: 0.8826 - val_loss: 0.3467 - val_accuracy: 0.8776\n",
            "Epoch 8/50\n",
            "91/91 [==============================] - 6s 67ms/step - loss: 0.2616 - accuracy: 0.8802 - val_loss: 0.4183 - val_accuracy: 0.7988\n",
            "Epoch 9/50\n",
            "91/91 [==============================] - 5s 53ms/step - loss: 0.2628 - accuracy: 0.8871 - val_loss: 0.3313 - val_accuracy: 0.8797\n",
            "Epoch 10/50\n",
            "91/91 [==============================] - 5s 58ms/step - loss: 0.2391 - accuracy: 0.8950 - val_loss: 0.3306 - val_accuracy: 0.8651\n",
            "Epoch 11/50\n",
            "91/91 [==============================] - 5s 60ms/step - loss: 0.2464 - accuracy: 0.8860 - val_loss: 0.3605 - val_accuracy: 0.8631\n",
            "Epoch 12/50\n",
            "91/91 [==============================] - 5s 50ms/step - loss: 0.2351 - accuracy: 0.8978 - val_loss: 0.3384 - val_accuracy: 0.8838\n",
            "Epoch 13/50\n",
            "91/91 [==============================] - 7s 72ms/step - loss: 0.2315 - accuracy: 0.8975 - val_loss: 0.3522 - val_accuracy: 0.8734\n",
            "Epoch 14/50\n",
            "91/91 [==============================] - 5s 53ms/step - loss: 0.2265 - accuracy: 0.9054 - val_loss: 0.3130 - val_accuracy: 0.8817\n",
            "Epoch 15/50\n",
            "91/91 [==============================] - 5s 54ms/step - loss: 0.2514 - accuracy: 0.8867 - val_loss: 0.3325 - val_accuracy: 0.8776\n",
            "Epoch 16/50\n",
            "91/91 [==============================] - 6s 62ms/step - loss: 0.2341 - accuracy: 0.9020 - val_loss: 0.3173 - val_accuracy: 0.8693\n",
            "Epoch 17/50\n",
            "91/91 [==============================] - 5s 50ms/step - loss: 0.2316 - accuracy: 0.8971 - val_loss: 0.3243 - val_accuracy: 0.8734\n",
            "Epoch 18/50\n",
            "91/91 [==============================] - 6s 63ms/step - loss: 0.2227 - accuracy: 0.8992 - val_loss: 0.3067 - val_accuracy: 0.8734\n",
            "Epoch 19/50\n",
            "91/91 [==============================] - 5s 51ms/step - loss: 0.2197 - accuracy: 0.9054 - val_loss: 0.2968 - val_accuracy: 0.8880\n",
            "Epoch 20/50\n",
            "91/91 [==============================] - 5s 60ms/step - loss: 0.2112 - accuracy: 0.9051 - val_loss: 0.3119 - val_accuracy: 0.8672\n",
            "Epoch 21/50\n",
            "91/91 [==============================] - 6s 66ms/step - loss: 0.2088 - accuracy: 0.9099 - val_loss: 0.3525 - val_accuracy: 0.8631\n",
            "Epoch 22/50\n",
            "91/91 [==============================] - 5s 53ms/step - loss: 0.2473 - accuracy: 0.8933 - val_loss: 0.3380 - val_accuracy: 0.8672\n",
            "Epoch 23/50\n",
            "91/91 [==============================] - 6s 65ms/step - loss: 0.2424 - accuracy: 0.8902 - val_loss: 0.3200 - val_accuracy: 0.8693\n",
            "Epoch 24/50\n",
            "91/91 [==============================] - 5s 50ms/step - loss: 0.2099 - accuracy: 0.9082 - val_loss: 0.3866 - val_accuracy: 0.8568\n",
            "Epoch 25/50\n",
            "91/91 [==============================] - 5s 51ms/step - loss: 0.2236 - accuracy: 0.8971 - val_loss: 0.3646 - val_accuracy: 0.8382\n",
            "Epoch 26/50\n",
            "91/91 [==============================] - 7s 76ms/step - loss: 0.2210 - accuracy: 0.9023 - val_loss: 0.3319 - val_accuracy: 0.8776\n",
            "Epoch 27/50\n",
            "91/91 [==============================] - 5s 55ms/step - loss: 0.1893 - accuracy: 0.9183 - val_loss: 0.2991 - val_accuracy: 0.8942\n",
            "Epoch 28/50\n",
            "91/91 [==============================] - 6s 66ms/step - loss: 0.2255 - accuracy: 0.8999 - val_loss: 0.3183 - val_accuracy: 0.8817\n",
            "Epoch 29/50\n",
            "91/91 [==============================] - 5s 52ms/step - loss: 0.1842 - accuracy: 0.9179 - val_loss: 0.3115 - val_accuracy: 0.8921\n",
            "Epoch 30/50\n",
            "91/91 [==============================] - 5s 53ms/step - loss: 0.1828 - accuracy: 0.9221 - val_loss: 0.3125 - val_accuracy: 0.8734\n",
            "Epoch 31/50\n",
            "91/91 [==============================] - 6s 68ms/step - loss: 0.1872 - accuracy: 0.9131 - val_loss: 0.3322 - val_accuracy: 0.8714\n",
            "Epoch 32/50\n",
            "91/91 [==============================] - 5s 57ms/step - loss: 0.1959 - accuracy: 0.9103 - val_loss: 0.3080 - val_accuracy: 0.8838\n",
            "Epoch 33/50\n",
            "91/91 [==============================] - 6s 61ms/step - loss: 0.1789 - accuracy: 0.9207 - val_loss: 0.3129 - val_accuracy: 0.8714\n",
            "Epoch 34/50\n",
            "91/91 [==============================] - 5s 54ms/step - loss: 0.1753 - accuracy: 0.9203 - val_loss: 0.3199 - val_accuracy: 0.8880\n",
            "Epoch 35/50\n",
            "91/91 [==============================] - 5s 53ms/step - loss: 0.1932 - accuracy: 0.9158 - val_loss: 0.3054 - val_accuracy: 0.8693\n",
            "Epoch 36/50\n",
            "91/91 [==============================] - 6s 67ms/step - loss: 0.1857 - accuracy: 0.9193 - val_loss: 0.3153 - val_accuracy: 0.8921\n",
            "Epoch 37/50\n",
            "91/91 [==============================] - 5s 51ms/step - loss: 0.1750 - accuracy: 0.9200 - val_loss: 0.3277 - val_accuracy: 0.8963\n",
            "Epoch 38/50\n",
            "91/91 [==============================] - 5s 55ms/step - loss: 0.1681 - accuracy: 0.9266 - val_loss: 0.2855 - val_accuracy: 0.8942\n",
            "Epoch 39/50\n",
            "91/91 [==============================] - 6s 68ms/step - loss: 0.1800 - accuracy: 0.9200 - val_loss: 0.3380 - val_accuracy: 0.8651\n",
            "Epoch 40/50\n",
            "91/91 [==============================] - 5s 52ms/step - loss: 0.1942 - accuracy: 0.9103 - val_loss: 0.3117 - val_accuracy: 0.8983\n",
            "Epoch 41/50\n",
            "91/91 [==============================] - 6s 69ms/step - loss: 0.1624 - accuracy: 0.9269 - val_loss: 0.2848 - val_accuracy: 0.8942\n",
            "Epoch 42/50\n",
            "91/91 [==============================] - 5s 52ms/step - loss: 0.1588 - accuracy: 0.9293 - val_loss: 0.3116 - val_accuracy: 0.8672\n",
            "Epoch 43/50\n",
            "91/91 [==============================] - 5s 56ms/step - loss: 0.1484 - accuracy: 0.9311 - val_loss: 0.2705 - val_accuracy: 0.8983\n",
            "Epoch 44/50\n",
            "91/91 [==============================] - 6s 63ms/step - loss: 0.1437 - accuracy: 0.9377 - val_loss: 0.2833 - val_accuracy: 0.8963\n",
            "Epoch 45/50\n",
            "91/91 [==============================] - 5s 59ms/step - loss: 0.1686 - accuracy: 0.9241 - val_loss: 0.2926 - val_accuracy: 0.9004\n",
            "Epoch 46/50\n",
            "91/91 [==============================] - 7s 79ms/step - loss: 0.1597 - accuracy: 0.9259 - val_loss: 0.3106 - val_accuracy: 0.8963\n",
            "Epoch 47/50\n",
            "91/91 [==============================] - 5s 53ms/step - loss: 0.1512 - accuracy: 0.9338 - val_loss: 0.3074 - val_accuracy: 0.8921\n",
            "Epoch 48/50\n",
            "91/91 [==============================] - 6s 61ms/step - loss: 0.1663 - accuracy: 0.9231 - val_loss: 0.3052 - val_accuracy: 0.8817\n",
            "Epoch 49/50\n",
            "91/91 [==============================] - 5s 58ms/step - loss: 0.1612 - accuracy: 0.9252 - val_loss: 0.2865 - val_accuracy: 0.8963\n",
            "Epoch 50/50\n",
            "91/91 [==============================] - 5s 52ms/step - loss: 0.1537 - accuracy: 0.9273 - val_loss: 0.2844 - val_accuracy: 0.9004\n"
          ]
        },
        {
          "output_type": "execute_result",
          "data": {
            "text/plain": [
              "<keras.src.callbacks.History at 0x7c0cab55e560>"
            ]
          },
          "metadata": {},
          "execution_count": 24
        }
      ]
    },
    {
      "cell_type": "code",
      "source": [
        "model_test1.evaluate(x_t, y_t)"
      ],
      "metadata": {
        "colab": {
          "base_uri": "https://localhost:8080/"
        },
        "id": "VaQcXEGQip15",
        "outputId": "46b588fa-a866-468b-c0ea-333f493415a4"
      },
      "execution_count": 25,
      "outputs": [
        {
          "output_type": "stream",
          "name": "stdout",
          "text": [
            "16/16 [==============================] - 0s 21ms/step - loss: 0.2621 - accuracy: 0.8815\n"
          ]
        },
        {
          "output_type": "execute_result",
          "data": {
            "text/plain": [
              "[0.2621367275714874, 0.8814969062805176]"
            ]
          },
          "metadata": {},
          "execution_count": 25
        }
      ]
    },
    {
      "cell_type": "code",
      "source": [
        "model_test1.save(\"model_qpsk_92acc\")"
      ],
      "metadata": {
        "id": "JsiGrfgXmUFm"
      },
      "execution_count": 26,
      "outputs": []
    },
    {
      "cell_type": "code",
      "source": [
        "!zip -r /content/model_qpsk92acc.zip /content/model_qpsk_92acc"
      ],
      "metadata": {
        "colab": {
          "base_uri": "https://localhost:8080/"
        },
        "id": "eclW_3rEmgLQ",
        "outputId": "bf5531d4-66f0-496d-9f14-ca92a5140925"
      },
      "execution_count": 28,
      "outputs": [
        {
          "output_type": "stream",
          "name": "stdout",
          "text": [
            "  adding: content/model_qpsk_92acc/ (stored 0%)\n",
            "  adding: content/model_qpsk_92acc/variables/ (stored 0%)\n",
            "  adding: content/model_qpsk_92acc/variables/variables.index (deflated 65%)\n",
            "  adding: content/model_qpsk_92acc/variables/variables.data-00000-of-00001 (deflated 8%)\n",
            "  adding: content/model_qpsk_92acc/keras_metadata.pb (deflated 91%)\n",
            "  adding: content/model_qpsk_92acc/saved_model.pb (deflated 88%)\n",
            "  adding: content/model_qpsk_92acc/assets/ (stored 0%)\n",
            "  adding: content/model_qpsk_92acc/fingerprint.pb (stored 0%)\n"
          ]
        }
      ]
    },
    {
      "cell_type": "code",
      "source": [
        "!zip -r /content/logs_qpsk92acc.zip /content/logs_qpsk"
      ],
      "metadata": {
        "colab": {
          "base_uri": "https://localhost:8080/"
        },
        "id": "iolyok_MmswU",
        "outputId": "6149cb2a-282e-488a-e606-524549eff6a2"
      },
      "execution_count": 29,
      "outputs": [
        {
          "output_type": "stream",
          "name": "stdout",
          "text": [
            "  adding: content/logs_qpsk/ (stored 0%)\n",
            "  adding: content/logs_qpsk/validation/ (stored 0%)\n",
            "  adding: content/logs_qpsk/validation/events.out.tfevents.1703048084.d8a75a6848b3.281.3.v2 (deflated 78%)\n",
            "  adding: content/logs_qpsk/validation/events.out.tfevents.1703047511.d8a75a6848b3.281.1.v2 (deflated 79%)\n",
            "  adding: content/logs_qpsk/train/ (stored 0%)\n",
            "  adding: content/logs_qpsk/train/events.out.tfevents.1703047504.d8a75a6848b3.281.0.v2 (deflated 86%)\n",
            "  adding: content/logs_qpsk/train/events.out.tfevents.1703048081.d8a75a6848b3.281.2.v2 (deflated 86%)\n"
          ]
        }
      ]
    },
    {
      "cell_type": "code",
      "source": [],
      "metadata": {
        "id": "w5Z3Srfbm48a"
      },
      "execution_count": null,
      "outputs": []
    }
  ]
}